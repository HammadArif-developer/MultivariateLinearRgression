{
 "cells": [
  {
   "cell_type": "markdown",
   "metadata": {},
   "source": [
    "# Programming Assignment 2: Linear Regression\n",
    "\n",
    "## Instructions\n",
    "\n",
    "- The aim of this assignment is to give you a hands-on with a real-life machine learning application.\n",
    "- Use separate training, and testing data as discussed in class.\n",
    "- You can only use Python programming language and Jupyter Notebooks.\n",
    "- There are three parts of this assignment. In parts 1 & 2, you can only use **numpy, scipy, pandas, matplotlib and are not allowed to use NLTK, scikit-learn or any other machine learning toolkit**. However, you have to use **scikit-learn** in part 3.\n",
    "- Carefully read the submission instructions, plagiarism and late days policy below.\n",
    "- Deadline to submit this assignment is: **Friday, 30th October 2020**.\n",
    "\n",
    "## Submission Instructions\n",
    "\n",
    "Submit your code both as notebook file (.ipynb) and python script (.py) on LMS. The name of both files should be your roll number. If you don’t know how to save .ipynb as .py [see this](https://i.stack.imgur.com/L1rQH.png). **Failing to submit any one of them will result in the reduction of marks**.\n",
    "\n",
    "## Plagiarism Policy\n",
    "\n",
    "The code MUST be done independently. Any plagiarism or cheating of work from others or the internet will be immediately referred to the DC. If you are confused about what constitutes plagiarism, it is YOUR responsibility to consult with the instructor or the TA in a timely manner. No “after the fact” negotiations will be possible. The only way to guarantee that you do not lose marks is “DO NOT LOOK AT ANYONE ELSE'S CODE NOR DISCUSS IT WITH THEM”.\n",
    "\n",
    "## Late Days Policy\n",
    "\n",
    "The deadline of the assignment is final. However, in order to accommodate all the 11th hour issues there is a late submission policy i.e. you can submit your assignment within 3 days after the deadline with 25% deduction each day.\n",
    "\n",
    "\n",
    "## Introduction\n",
    "\n",
    "In this exercise, you will implement linear regression and get to see it work on data. After completing this assignment, you will know:\n",
    "- How to implement linear regression from scratch.\n",
    "- How to estimate linear regression parameters using gradient descent.\n",
    "- How to make predictions on new data using learned parameters.\n",
    "\n",
    "Let's start with the necessary imports."
   ]
  },
  {
   "cell_type": "code",
   "execution_count": 1,
   "metadata": {},
   "outputs": [],
   "source": [
    "import os\n",
    "import numpy as np\n",
    "from matplotlib import pyplot\n",
    "%matplotlib inline"
   ]
  },
  {
   "cell_type": "markdown",
   "metadata": {},
   "source": [
    "## 1. Linear Regression with one variable\n",
    "\n",
    "Linear regression assumes a linear relationship between the input variables (X) and the single output variable (Y). More specifically, that output (Y) can be calculated from a linear combination of the input variables (X). When there is a single input variable, the method is referred to as a simple linear regression.\n",
    "\n",
    "Now you will implement simple linear regression to predict profits for a food truck. Suppose you are the CEO of a restaurant franchise and are considering different cities for opening a new outlet. The chain already has trucks in various cities and you have data for profits and populations from the cities. You would like to use this data to help you select which city to expand to next."
   ]
  },
  {
   "cell_type": "markdown",
   "metadata": {},
   "source": [
    "### 1.1 Load the dataset\n",
    "\n",
    "The file `Data/ex1data1.txt` contains the dataset for our linear regression problem. The first column is the population of a city (in 10,000s) and the second column is the profit of a food truck in that city (in $10,000s). A negative value for profit indicates a loss. \n",
    "\n",
    "We provide you with the code needed to load this data. The dataset is loaded from the data file into the variables `X` and `Y`."
   ]
  },
  {
   "cell_type": "code",
   "execution_count": 2,
   "metadata": {},
   "outputs": [],
   "source": [
    "data = np.loadtxt(os.path.join('Data', 'ex1data.txt'), delimiter=',')\n",
    "X, Y = data[:, 0], data[:, 1]"
   ]
  },
  {
   "cell_type": "markdown",
   "metadata": {},
   "source": [
    "### 1.2 Plot the dataset\n",
    "Before starting on any task, it is often useful to understand the data by visualizing it. For this dataset, you can use a scatter plot to visualize the data, since it has only two properties to plot (profit and population). Execute the next cell to visualize the data."
   ]
  },
  {
   "cell_type": "code",
   "execution_count": 3,
   "metadata": {},
   "outputs": [
    {
     "data": {
      "text/plain": [
       "Text(0.5, 0, 'Population of City in 10,000s')"
      ]
     },
     "execution_count": 3,
     "metadata": {},
     "output_type": "execute_result"
    },
    {
     "data": {
      "image/png": "[encoded data removed]",
      "text/plain": [
       "<Figure size 432x288 with 1 Axes>"
      ]
     },
     "metadata": {
      "needs_background": "light"
     },
     "output_type": "display_data"
    }
   ],
   "source": [
    "pyplot.plot(X, Y, 'ro', ms=10, mec='k')\n",
    "pyplot.ylabel('Profit in $10,000')\n",
    "pyplot.xlabel('Population of City in 10,000s')"
   ]
  },
  {
   "cell_type": "markdown",
   "metadata": {},
   "source": [
    "### 1.3 Learn the parameters\n",
    "In this part, you will fit the linear regression parameters $\\theta$ to the food truck dataset using gradient descent.\n",
    "\n",
    "The objective of linear regression is to minimize the cost function\n",
    "\n",
    "$$ J(\\theta) = \\frac{1}{2m} \\sum_{i=1}^m \\left( h_{\\theta}(x^{(i)}) - y^{(i)}\\right)^2 ------ (i)$$ \n",
    "\n",
    "where the hypothesis $h_\\theta(x)$ is given by the linear model\n",
    "$$ h_\\theta(x) = \\theta_0 + \\theta_1 x ------ (ii)$$\n",
    "\n",
    "The parameters of your model are the $\\theta_j$ values. These are\n",
    "the values you will adjust to minimize cost $J(\\theta)$. One way to do this is to\n",
    "use the batch gradient descent algorithm. In batch gradient descent, each\n",
    "iteration performs the update\n",
    "\n",
    "$$ \\theta_0 = \\theta_0 - \\alpha \\frac{1}{m} \\sum_{i=1}^m \\left( h_\\theta(x^{(i)}) - y^{(i)}\\right) ------ (iii)$$\n",
    "\n",
    "$$ \\theta_1 = \\theta_1 - \\alpha \\frac{1}{m} \\sum_{i=1}^m \\left( h_\\theta(x^{(i)}) - y^{(i)}\\right)x^{(i)} ------ (iv)$$\n",
    "\n",
    "With each step of gradient descent, your parameters $\\theta_j$ come closer to the optimal values that will achieve the lowest cost J($\\theta$).\n",
    "\n",
    "Let's start by implementing the hypothesis $h_\\theta(x)$."
   ]
  },
  {
   "cell_type": "code",
   "execution_count": 4,
   "metadata": {},
   "outputs": [],
   "source": [
    "### GRADED FUNCTION ###\n",
    "def predict(x, theta0, theta1):\n",
    "    '''\n",
    "    Calculates the hypothesis for any input sample `x` given the parameters `theta`.\n",
    "    \n",
    "    Arguments\n",
    "    ---------\n",
    "    x : float\n",
    "        The input sample.\n",
    "    \n",
    "    theta0 : float\n",
    "        The parameter for the regression function.\n",
    "        \n",
    "    theta1 : float\n",
    "        The parameter for the regression function.\n",
    "    \n",
    "    Returns\n",
    "    -------\n",
    "    h_x : float\n",
    "        The hypothesis for input sample.\n",
    "    \n",
    "    Hint(s)\n",
    "    -------\n",
    "    Compute equation (ii).\n",
    "    '''\n",
    "    # You need to return the following variable(s) correctly\n",
    "    h_x = 0.0\n",
    "    \n",
    "    ### START CODE HERE ### (≈ 1 line of code)\n",
    "    h_x = theta0 + theta1*x\n",
    "    ### END CODE HERE ###\n",
    "    \n",
    "    return h_x"
   ]
  },
  {
   "cell_type": "markdown",
   "metadata": {},
   "source": [
    "Execute the next cell to verify your implementation."
   ]
  },
  {
   "cell_type": "code",
   "execution_count": 5,
   "metadata": {},
   "outputs": [
    {
     "name": "stdout",
     "output_type": "stream",
     "text": [
      "With x = 2, theta0 = 1.0, theta1 = 1.0\n",
      "Predicted Hypothesis h(x) = 3.00\n",
      "Expected hypothesis h(x) = 3.00\n",
      "\n"
     ]
    }
   ],
   "source": [
    "h_x = predict(x=2, theta0=1.0, theta1=1.0)\n",
    "print('With x = 2, theta0 = 1.0, theta1 = 1.0\\nPredicted Hypothesis h(x) = %.2f' % h_x)\n",
    "print(\"Expected hypothesis h(x) = 3.00\\n\")"
   ]
  },
  {
   "cell_type": "markdown",
   "metadata": {},
   "source": [
    "As you perform gradient descent to learn minimize the cost function  $J(\\theta)$, it is helpful to monitor the convergence by computing the cost. In this section, you will implement a function to calculate  $J(\\theta)$ so you can check the convergence of your gradient descent implementation."
   ]
  },
  {
   "cell_type": "code",
   "execution_count": 6,
   "metadata": {},
   "outputs": [],
   "source": [
    "### GRADED FUNCTION ###\n",
    "def computeCost(X, Y, theta0, theta1):\n",
    "    '''\n",
    "    Computes cost for linear regression. Computes the cost of using `theta` as the\n",
    "    parameter for linear regression to fit the data points in `X` and `Y`.\n",
    "    \n",
    "    Arguments\n",
    "    ---------\n",
    "    X : array\n",
    "        The input dataset of shape (m, ), where m is the number of training examples.\n",
    "    \n",
    "    Y : array\n",
    "        The values of the function at each data point. This is a vector of\n",
    "        shape (m, ), where m is the number of training examples.\n",
    "    \n",
    "    theta0 : float\n",
    "        The parameter for the regression function.\n",
    "        \n",
    "    theta1 : float\n",
    "        The parameter for the regression function.\n",
    "    \n",
    "    Returns\n",
    "    -------\n",
    "    J : float\n",
    "        The value of the regression cost function.\n",
    "    \n",
    "    Hint(s)\n",
    "    -------\n",
    "    Compute equation (i).\n",
    "    '''\n",
    "    # initialize some useful values\n",
    "    m = Y.size  # number of training examples\n",
    "    \n",
    "    # You need to return the following variable(s) correctly\n",
    "    J = 0\n",
    "        \n",
    "    ### START CODE HERE ### (≈ 3-4 lines of code)\n",
    "    for i in range(0,m):\n",
    "        h_x = predict(X[i],theta0,theta1)\n",
    "        J += (h_x - Y[i])**2\n",
    "    J = J/(2*m)\n",
    "    ### END CODE HERE ###\n",
    "    \n",
    "    return J"
   ]
  },
  {
   "cell_type": "markdown",
   "metadata": {},
   "source": [
    "Execute the next cell to verify your implementation."
   ]
  },
  {
   "cell_type": "code",
   "execution_count": 7,
   "metadata": {},
   "outputs": [
    {
     "name": "stdout",
     "output_type": "stream",
     "text": [
      "With theta0 = 1.0, theta1 = 1.0\n",
      "Predicted cost J = 10.27\n",
      "Expected cost J = 10.27\n",
      "\n"
     ]
    }
   ],
   "source": [
    "J = computeCost(X, Y, theta0=1.0, theta1=1.0)\n",
    "print('With theta0 = 1.0, theta1 = 1.0\\nPredicted cost J = %.2f' % J)\n",
    "print(\"Expected cost J = 10.27\\n\")"
   ]
  },
  {
   "cell_type": "markdown",
   "metadata": {},
   "source": [
    "Next, you will complete a function which implements gradient descent. The loop structure has been written for you, and you only need to supply the updates to parameters $\\theta_j$  within each iteration (epoch). \n",
    "\n",
    "The starter code for the function `gradientDescent` calls `computeCost` on every iteration and saves the cost to a `python` list. Assuming you have implemented `gradientDescent` and `computeCost` correctly, your value of $J(\\theta)$ should never increase, and should converge to a steady value by the end of the algorithm."
   ]
  },
  {
   "cell_type": "code",
   "execution_count": 8,
   "metadata": {},
   "outputs": [],
   "source": [
    "### GRADED FUNCTION ###\n",
    "def gradientDescent(X, Y, alpha, n_epoch):\n",
    "    \"\"\"\n",
    "    Performs gradient descent to learn `theta`. Updates `theta` by taking `n_epoch`\n",
    "    gradient steps with learning rate `alpha`.\n",
    "    \n",
    "    Arguments\n",
    "    ---------\n",
    "    X : array\n",
    "        The input dataset of shape (m, ), where m is the number of training examples.\n",
    "    \n",
    "    Y : array\n",
    "        The values of the function at each data point. This is a vector of\n",
    "        shape (m, ), where m is the number of training examples.\n",
    "    \n",
    "    alpha : float\n",
    "        The learning rate.\n",
    "    \n",
    "    n_epoch : int\n",
    "        The number of iterations for gradient descent. \n",
    "    \n",
    "    Returns\n",
    "    -------\n",
    "    theta0 : float\n",
    "        The parameter for the regression function.\n",
    "        \n",
    "    theta1 : float\n",
    "        The parameter for the regression function.\n",
    "    \n",
    "    J : list\n",
    "        A python list for the values of the cost function after each iteration.\n",
    "    \n",
    "    Hint(s)\n",
    "    -------\n",
    "    Compute equation (iii) and (iv).\n",
    "\n",
    "    While debugging, it can be useful to print out the values of \n",
    "    the cost function (computeCost) here.\n",
    "    \"\"\"\n",
    "    # initialize some useful values\n",
    "    m = Y.size  # number of training examples\n",
    "    J = list()  # list to store cost\n",
    "    \n",
    "    # You need to return the following variables correctly\n",
    "    theta0 = 0.0\n",
    "    theta1 = 0.0\n",
    "    \n",
    "    for epoch in range(n_epoch):\n",
    "        ### START CODE HERE ### (≈ 5-10 lines of code)\n",
    "        delta_theta0 = 0\n",
    "        delta_theta1 = 0\n",
    "        for i in range(0,m):\n",
    "            h_x = predict(X[i],theta0,theta1)\n",
    "            delta_theta0 += (h_x - Y[i])*(alpha/m) \n",
    "            delta_theta1 += (h_x - Y[i])*((alpha*X[i])/m)\n",
    "        theta0 = theta0 - delta_theta0\n",
    "        theta1 = theta1 - delta_theta1\n",
    "        ### END CODE HERE ###\n",
    "\n",
    "        J.append(computeCost(X, Y, theta0, theta1))\n",
    "    return theta0, theta1, J"
   ]
  },
  {
   "cell_type": "markdown",
   "metadata": {},
   "source": [
    "Execute the next cell to verify your implementation."
   ]
  },
  {
   "cell_type": "code",
   "execution_count": 9,
   "metadata": {},
   "outputs": [
    {
     "name": "stdout",
     "output_type": "stream",
     "text": [
      "Predicted theta0 = -3.6303, theta1 = 1.1664, cost = 4.4834\n",
      "Expected theta0 = -3.6303, theta1 = 1.1664, cost = 4.4834\n"
     ]
    }
   ],
   "source": [
    "n_epoch = 1500\n",
    "alpha = 0.01\n",
    "\n",
    "theta0, theta1, J = gradientDescent(X ,Y, alpha, n_epoch)\n",
    "print('Predicted theta0 = %.4f, theta1 = %.4f, cost = %.4f' % (theta0, theta1, J[-1]))\n",
    "print('Expected theta0 = -3.6303, theta1 = 1.1664, cost = 4.4834')"
   ]
  },
  {
   "cell_type": "markdown",
   "metadata": {},
   "source": [
    "### 1.4 Plot the linear fit\n",
    "\n",
    "Use your learned parameters $\\theta_j$ to plot the linear fit."
   ]
  },
  {
   "cell_type": "code",
   "execution_count": 10,
   "metadata": {},
   "outputs": [
    {
     "data": {
      "text/plain": [
       "<matplotlib.legend.Legend at 0x2e8f7fdaf48>"
      ]
     },
     "execution_count": 10,
     "metadata": {},
     "output_type": "execute_result"
    },
    {
     "data": {
      "image/png": "[encoded data removed]",
      "text/plain": [
       "<Figure size 432x288 with 1 Axes>"
      ]
     },
     "metadata": {
      "needs_background": "light"
     },
     "output_type": "display_data"
    }
   ],
   "source": [
    "h_x = list()\n",
    "for x in X:\n",
    "    h_x.append(predict(x, theta0, theta1))\n",
    "pyplot.plot(X, Y, 'ro', ms=10, mec='k')\n",
    "pyplot.ylabel('Profit in $10,000')\n",
    "pyplot.xlabel('Population of City in 10,000s')\n",
    "pyplot.plot(X, h_x, '-')\n",
    "pyplot.legend(['Training data', 'Linear regression'])"
   ]
  },
  {
   "cell_type": "markdown",
   "metadata": {},
   "source": [
    "### 1.5 Make predictions\n",
    "\n",
    "Use your learned parameters $\\theta_j$ to make food truck profit predictions in areas with population of 40,000 and 65,000."
   ]
  },
  {
   "cell_type": "code",
   "execution_count": 11,
   "metadata": {},
   "outputs": [
    {
     "name": "stdout",
     "output_type": "stream",
     "text": [
      "For population = 40,000, predicted profit = $10351.58\n",
      "For population = 65,000, predicted profit = $39510.64\n"
     ]
    }
   ],
   "source": [
    "print('For population = 40,000, predicted profit = $%.2f' % (predict(4, theta0, theta1)*10000))\n",
    "print('For population = 65,000, predicted profit = $%.2f' % (predict(6.5, theta0, theta1)*10000))"
   ]
  },
  {
   "cell_type": "markdown",
   "metadata": {},
   "source": [
    "## 2. Multivariate Linear Regression\n",
    "\n",
    "Now, you will implement multivariate linear regression (from scratch) to predict the the median price of homes in a Boston suburb during the mid-1970s. To do this, you are given with the dataset that has 404 examples in the train set and 102 examples in test set. Each example has 13 input variables (features) and one output variable (price in $10,000s). Below is the description of input variables:\n",
    "\n",
    "- Per capita crime rate.\n",
    "- The proportion of residential land zoned for lots over 25,000 square feet.\n",
    "- The proportion of non-retail business acres per town.\n",
    "- Charles River dummy variable (= 1 if tract bounds river; 0 otherwise).\n",
    "- Nitric oxides concentration (parts per 10 million).\n",
    "- The average number of rooms per dwelling.\n",
    "- The proportion of owner-occupied units built before 1940.\n",
    "- Weighted distances to five Boston employment centers.\n",
    "- Index of accessibility to radial highways.\n",
    "- Full-value property-tax rate per $10,000.\n",
    "- Pupil-teacher ratio by town.\n",
    "- 1000 * (Bk - 0.63) ** 2 where Bk is the proportion of Black people by town.\n",
    "- Percentage lower status of the population.\n",
    "\n",
    "Each one of these input features is stored using a different scale. Some features are represented by a proportion between 0 and 1, other features are ranges between 1 and 12, some are ranges between 0 and 100, and so on. This is often the case with real-world data, and understanding how to explore and clean such data is an important skill to develop.\n",
    "\n",
    "A common way to normalize features that use different scales and ranges is:\n",
    "\n",
    "- Subtract the mean value of each feature from the dataset.\n",
    "- After subtracting the mean, additionally scale (divide) the feature values by their respective standard deviations.\n",
    "\n",
    "Note: We only use examples of the train set to estimate the mean and standard deviation.\n",
    "\n",
    "You have to follow exactly the same steps as above i.e. implement hypothesis, cost function and gradient descent for multivariate linear regression to learn parameters $\\theta$ using train set. Finally, report the cost (error) using your learned parameters $\\theta$ on test set. Expected Mean Square Error on this dataset is 11.5 - 12.5 approximately. \n",
    "\n",
    "We provide you with the code needed to load this dataset. The dataset is loaded from the data files into the variables `train_X`, `train_Y`, `test_X` and `test_Y`."
   ]
  },
  {
   "cell_type": "code",
   "execution_count": 34,
   "metadata": {},
   "outputs": [],
   "source": [
    "train_X = np.loadtxt(os.path.join('Data', 'ex2traindata.txt'))\n",
    "train_Y = np.loadtxt(os.path.join('Data', 'ex2trainlabels.txt'))\n",
    "test_X = np.loadtxt(os.path.join('Data', 'ex2testdata.txt'))\n",
    "test_Y = np.loadtxt(os.path.join('Data', 'ex2testlabels.txt'))"
   ]
  },
  {
   "cell_type": "code",
   "execution_count": 35,
   "metadata": {},
   "outputs": [],
   "source": [
    "''' Start your code of part 2 from here, add the new code cells as per your requirement. '''\n",
    "for i in range(0,13):\n",
    "    trainX_mean = train_X[:,i].mean()\n",
    "    trainX_std = train_X[:,i].std()    \n",
    "    for j in range(len(train_X[:,i])):\n",
    "        train_X[j,i] = (train_X[j,i] - trainX_mean)/trainX_std\n",
    "    for j in range(len(test_X[:,i])):\n",
    "        test_X[j,i] = (test_X[j,i] - trainX_mean)/trainX_std\n",
    "# train_X = np.insert(train_X, 0, 1, axis=1)\n",
    "# test_X = np.insert(test_X, 0, 1, axis=1)\n",
    "# theta_values = np.zeros(14)\n",
    "# m = Y.size\n",
    "# h_x = np.matmul(train_X,theta_values)\n",
    "# delta_theta = (h_x - train_Y)\n",
    "# delta_theta = (delta_theta.sum())/(alpha/m)\n",
    "# delta_theta\n",
    "\n",
    "# for epoch in range(n_epoch):\n",
    "    \n",
    "def predict_multi(X_values, theta_values):\n",
    "    h_x = theta_values[0]\n",
    "    for i in range(len(X_values)):\n",
    "        h_x += X_values[i]*theta_values[i+1]\n",
    "    return h_x\n",
    "def computeCost_multi(X_values,Y_values,theta_values):\n",
    "    m = Y_values.size\n",
    "    J = 0\n",
    "    for i in range(0,m):\n",
    "        h_x = predict_multi(X_values[i],theta_values)\n",
    "        J += (h_x - Y_values[i])**2\n",
    "    J = J/(2*m)\n",
    "    return J\n",
    "def gradientDescent_multi(X,Y,alpha,n_epoch):\n",
    "    m = Y.size  # number of training examples\n",
    "    J = list()  # list to store cost\n",
    "    theta_values = np.zeros(14)\n",
    "    for epoch in range(n_epoch):\n",
    "        deltatheta = np.zeros(14)\n",
    "        for i in range(0,m):\n",
    "            h_x = predict_multi(X[i],theta_values)\n",
    "            deltatheta[0] += (h_x - Y[i])*(alpha/m)\n",
    "            for j in range(0,13):\n",
    "                deltatheta[j+1] += (h_x - Y[i])*((alpha*X[i,j])/m)\n",
    "        for i in range(0,14):\n",
    "            theta_values[i] = theta_values[i] - deltatheta[i]\n",
    "        J.append(computeCost_multi(X,Y,theta_values))\n",
    "    return theta_values, J\n",
    "\n",
    "trained_thetas, trained_costs = gradientDescent_multi(train_X,train_Y,0.01,1500)\n"
   ]
  },
  {
   "cell_type": "code",
   "execution_count": 36,
   "metadata": {},
   "outputs": [
    {
     "name": "stdout",
     "output_type": "stream",
     "text": [
      "Trained Cost:  11.068144400821042\n",
      "Test Cost:  11.473302931574148\n"
     ]
    }
   ],
   "source": [
    "s = test_Y.size\n",
    "test_costs = computeCost_multi(test_X,test_Y,trained_thetas)\n",
    "print('Trained Cost: ',trained_costs[1499])\n",
    "print('Test Cost: ',test_costs)"
   ]
  },
  {
   "cell_type": "markdown",
   "metadata": {},
   "source": [
    "## 3. Regularized Linear Regression\n",
    "\n",
    "Now, you'll use the [scikit-learn](https://scikit-learn.org/stable/index.html) to implement [Linear Regression](https://scikit-learn.org/stable/modules/generated/sklearn.linear_model.LinearRegression.html), [Ridge](https://scikit-learn.org/stable/modules/generated/sklearn.linear_model.Ridge.html#sklearn.linear_model.Ridge), [Lasso](https://scikit-learn.org/stable/modules/generated/sklearn.linear_model.Lasso.html#sklearn.linear_model.Lasso), [Elastic Net](https://scikit-learn.org/stable/modules/generated/sklearn.linear_model.ElasticNet.html#sklearn.linear_model.ElasticNet) and apply them to Boston house pricing dataset (provided in part 2). Try out different values of regularization coefficient (known as alpha in scikit-learn) and use the [Mean Squared Error](https://scikit-learn.org/stable/modules/generated/sklearn.metrics.mean_squared_error.html) to report loss with each regression. Finally, plot the regularization coefficients alpha (x-axis) with learned parameters $\\theta$ (y-axis) for Ridge and Lasso. Please read [this blog](https://scienceloft.com/technical/understanding-lasso-and-ridge-regression/) to get better understanding of the desired plots."
   ]
  },
  {
   "cell_type": "code",
   "execution_count": 20,
   "metadata": {},
   "outputs": [],
   "source": [
    "from sklearn.linear_model import LinearRegression\n",
    "from sklearn.linear_model import Ridge\n",
    "from sklearn.linear_model import Lasso\n",
    "from sklearn.linear_model import ElasticNet\n",
    "from sklearn.metrics import mean_squared_error\n",
    "import matplotlib.pyplot as plt\n",
    "import scipy as sp"
   ]
  },
  {
   "cell_type": "code",
   "execution_count": 21,
   "metadata": {},
   "outputs": [],
   "source": [
    "''' Start your code of part 3 from here, add the new code cells as per your requirement. '''\n",
    "train_X = np.loadtxt(os.path.join('Data', 'ex2traindata.txt'))\n",
    "train_Y = np.loadtxt(os.path.join('Data', 'ex2trainlabels.txt'))\n",
    "test_X = np.loadtxt(os.path.join('Data', 'ex2testdata.txt'))\n",
    "test_Y = np.loadtxt(os.path.join('Data', 'ex2testlabels.txt'))\n",
    "# alp = [100000,10000,1000,100,10,1,0.1,0.001,0.0001,0.00001,0.000001]\n",
    "alp = np.logspace(-4, 5, num=10)\n",
    "for i in range(0,13):\n",
    "    trainX_mean = train_X[:,i].mean()\n",
    "    trainX_std = train_X[:,i].std()    \n",
    "    for j in range(len(train_X[:,i])):\n",
    "        train_X[j,i] = (train_X[j,i] - trainX_mean)/trainX_std\n",
    "    for j in range(len(test_X[:,i])):\n",
    "        test_X[j,i] = (test_X[j,i] - trainX_mean)/trainX_std"
   ]
  },
  {
   "cell_type": "code",
   "execution_count": 22,
   "metadata": {},
   "outputs": [
    {
     "name": "stdout",
     "output_type": "stream",
     "text": [
      "Mean Square Error of Linear Regression:  23.19559925642299\n"
     ]
    }
   ],
   "source": [
    "lr_reg = LinearRegression().fit(train_X, train_Y)\n",
    "test_prediction = lr_reg.predict(test_X)\n",
    "lr_mse = mean_squared_error(test_Y,test_prediction)\n",
    "print('Mean Square Error of Linear Regression: ',lr_mse)"
   ]
  },
  {
   "cell_type": "code",
   "execution_count": 31,
   "metadata": {},
   "outputs": [
    {
     "name": "stdout",
     "output_type": "stream",
     "text": [
      "Mean Square Error of Ridge:  23.195589891096738  with alpha =  0.0001\n",
      "Mean Square Error of Ridge:  23.19550560649569  with alpha =  0.001\n",
      "Mean Square Error of Ridge:  23.19466309047958  with alpha =  0.01\n",
      "Mean Square Error of Ridge:  23.18627077275195  with alpha =  0.1\n",
      "Mean Square Error of Ridge:  23.105483040456544  with alpha =  1.0\n",
      "Mean Square Error of Ridge:  22.51506910531624  with alpha =  10.0\n",
      "Mean Square Error of Ridge:  21.981122689884444  with alpha =  100.0\n",
      "Mean Square Error of Ridge:  38.19713195957408  with alpha =  1000.0\n",
      "Mean Square Error of Ridge:  70.01726226304477  with alpha =  10000.0\n",
      "Mean Square Error of Ridge:  81.96277379657906  with alpha =  100000.0\n"
     ]
    },
    {
     "data": {
      "image/png": "[encoded data removed]",
      "text/plain": [
       "<Figure size 432x288 with 1 Axes>"
      ]
     },
     "metadata": {
      "needs_background": "light"
     },
     "output_type": "display_data"
    }
   ],
   "source": [
    "all_rd_thetas = []\n",
    "for i in range(0,len(alp)):\n",
    "    rd_clf = Ridge(alpha=alp[i]).fit(train_X, train_Y)\n",
    "    rdTest_prediction = rd_clf.predict(test_X)\n",
    "    rd_mse = mean_squared_error(test_Y,rdTest_prediction)\n",
    "    print('Mean Square Error of Ridge: ',rd_mse, ' with alpha = ', alp[i])\n",
    "    all_rd_thetas.append(rd_clf.coef_)\n",
    "\n",
    "ax = plt.gca()\n",
    "new_alpha_values = np.logspace(-4, 5, num=100)\n",
    "obj_ridge = sp.interpolate.PchipInterpolator(np.log10(alp), all_rd_thetas)\n",
    "new_rd_thetas = obj_ridge(np.log10(new_alpha_values))\n",
    "ax.plot(new_alpha_values, new_rd_thetas)\n",
    "# ax.plot(alp,all_rd_thetas)\n",
    "ax.set_xscale('log')\n",
    "plt.xlabel('alpha')\n",
    "plt.ylabel('thetas')\n",
    "plt.title('Ridge coefficients as a function of the regularization')\n",
    "plt.axis('tight')\n",
    "plt.legend(labels=alp)\n",
    "plt.show()"
   ]
  },
  {
   "cell_type": "code",
   "execution_count": 34,
   "metadata": {},
   "outputs": [
    {
     "name": "stdout",
     "output_type": "stream",
     "text": [
      "Mean Square Error of Lasso:  23.194090744030717  with alpha =  0.0001\n",
      "Mean Square Error of Lasso:  23.18056713596704  with alpha =  0.001\n",
      "Mean Square Error of Lasso:  23.03473203130306  with alpha =  0.01\n",
      "Mean Square Error of Lasso:  22.259686676580454  with alpha =  0.1\n",
      "Mean Square Error of Lasso:  24.16926005111042  with alpha =  1.0\n",
      "Mean Square Error of Lasso:  83.71085929676252  with alpha =  10.0\n",
      "Mean Square Error of Lasso:  83.71085929676252  with alpha =  100.0\n",
      "Mean Square Error of Lasso:  83.71085929676252  with alpha =  1000.0\n",
      "Mean Square Error of Lasso:  83.71085929676252  with alpha =  10000.0\n",
      "Mean Square Error of Lasso:  83.71085929676252  with alpha =  100000.0\n"
     ]
    },
    {
     "name": "stderr",
     "output_type": "stream",
     "text": [
      "E:\\software\\anaconda\\lib\\site-packages\\scipy\\interpolate\\_cubic.py:293: RuntimeWarning: invalid value encountered in add\n",
      "  whmean = (w1/mk[:-1] + w2/mk[1:]) / (w1 + w2)\n"
     ]
    },
    {
     "data": {
      "image/png": "[encoded data removed]",
      "text/plain": [
       "<Figure size 432x288 with 1 Axes>"
      ]
     },
     "metadata": {
      "needs_background": "light"
     },
     "output_type": "display_data"
    }
   ],
   "source": [
    "all_la_thetas = []\n",
    "for i in range(0,len(alp)):\n",
    "    la_clf = Lasso(alpha=alp[i]).fit(train_X, train_Y)\n",
    "    laTest_prediction = la_clf.predict(test_X)\n",
    "    la_mse = mean_squared_error(test_Y,laTest_prediction)\n",
    "    print('Mean Square Error of Lasso: ',la_mse, ' with alpha = ', alp[i])\n",
    "    all_la_thetas.append(la_clf.coef_)\n",
    "ax = plt.gca()\n",
    "new_alpha_values = np.logspace(-4, 5, num=100)\n",
    "obj_lasso = sp.interpolate.PchipInterpolator(np.log10(alp), all_la_thetas)\n",
    "new_la_thetas = obj_lasso(np.log10(new_alpha_values))\n",
    "ax.plot(new_alpha_values, new_la_thetas)\n",
    "ax.set_xscale('log')\n",
    "plt.xlabel('alpha')\n",
    "plt.ylabel('thetas')\n",
    "plt.title('Lasso coefficients as a function of the regularization')\n",
    "plt.axis('tight')\n",
    "plt.legend(labels=alp)\n",
    "plt.show()"
   ]
  },
  {
   "cell_type": "code",
   "execution_count": 25,
   "metadata": {},
   "outputs": [
    {
     "name": "stdout",
     "output_type": "stream",
     "text": [
      "Mean Square Error of ElacticNet:  23.192955116314696  with alpha =  0.0001\n",
      "Mean Square Error of ElacticNet:  23.16939083402116  with alpha =  0.001\n",
      "Mean Square Error of ElacticNet:  22.944456122001665  with alpha =  0.01\n",
      "Mean Square Error of ElacticNet:  21.871036710411918  with alpha =  0.1\n",
      "Mean Square Error of ElacticNet:  26.88917673840703  with alpha =  1.0\n",
      "Mean Square Error of ElacticNet:  77.9563090904235  with alpha =  10.0\n",
      "Mean Square Error of ElacticNet:  83.71085929676252  with alpha =  100.0\n",
      "Mean Square Error of ElacticNet:  83.71085929676252  with alpha =  1000.0\n",
      "Mean Square Error of ElacticNet:  83.71085929676252  with alpha =  10000.0\n",
      "Mean Square Error of ElacticNet:  83.71085929676252  with alpha =  100000.0\n"
     ]
    }
   ],
   "source": [
    "for i in range(0,len(alp)):\n",
    "    en_clf = ElasticNet(alpha=alp[i],random_state=0).fit(train_X, train_Y)\n",
    "    enTest_prediction = en_clf.predict(test_X)\n",
    "    en_mse = mean_squared_error(test_Y,enTest_prediction)\n",
    "    print('Mean Square Error of ElacticNet: ',en_mse, ' with alpha = ', alp[i])"
   ]
  },
  {
   "cell_type": "code",
   "execution_count": null,
   "metadata": {},
   "outputs": [],
   "source": []
  },
  {
   "cell_type": "code",
   "execution_count": null,
   "metadata": {},
   "outputs": [],
   "source": []
  }
 ],
 "metadata": {
  "kernelspec": {
   "display_name": "Python 3",
   "language": "python",
   "name": "python3"
  },
  "language_info": {
   "codemirror_mode": {
    "name": "ipython",
    "version": 3
   },
   "file_extension": ".py",
   "mimetype": "text/x-python",
   "name": "python",
   "nbconvert_exporter": "python",
   "pygments_lexer": "ipython3",
   "version": "3.7.4"
  }
 },
 "nbformat": 4,
 "nbformat_minor": 2
}
